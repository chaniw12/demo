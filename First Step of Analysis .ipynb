{
    "cells": [
        {
            "cell_type": "code",
            "execution_count": 1,
            "metadata": {},
            "outputs": [
                {
                    "data": {
                        "text/html": "<div>\n<style scoped>\n    .dataframe tbody tr th:only-of-type {\n        vertical-align: middle;\n    }\n\n    .dataframe tbody tr th {\n        vertical-align: top;\n    }\n\n    .dataframe thead th {\n        text-align: right;\n    }\n</style>\n<table border=\"1\" class=\"dataframe\">\n  <thead>\n    <tr style=\"text-align: right;\">\n      <th></th>\n      <th>Date</th>\n      <th>Nominal Price</th>\n      <th>Net Change</th>\n      <th>Change (%)</th>\n      <th>Bid</th>\n      <th>Ask</th>\n      <th>P/E(x)</th>\n      <th>High</th>\n      <th>Low</th>\n      <th>Previous Close</th>\n      <th>Share Volume (000)</th>\n      <th>Turnover (000)</th>\n      <th>Lot Size</th>\n    </tr>\n  </thead>\n  <tbody>\n    <tr>\n      <th>0</th>\n      <td>2014-02-21</td>\n      <td>10.94</td>\n      <td>0.14</td>\n      <td>1.296</td>\n      <td>10.90</td>\n      <td>10.96</td>\n      <td>16.15</td>\n      <td>11.06</td>\n      <td>10.70</td>\n      <td>10.80</td>\n      <td>5016</td>\n      <td>54589</td>\n      <td>1000.0</td>\n    </tr>\n    <tr>\n      <th>1</th>\n      <td>2014-02-24</td>\n      <td>11.00</td>\n      <td>0.06</td>\n      <td>0.548</td>\n      <td>10.96</td>\n      <td>10.98</td>\n      <td>16.24</td>\n      <td>11.06</td>\n      <td>10.90</td>\n      <td>10.94</td>\n      <td>3950</td>\n      <td>43407</td>\n      <td>1000.0</td>\n    </tr>\n    <tr>\n      <th>2</th>\n      <td>2014-02-25</td>\n      <td>10.68</td>\n      <td>0.32</td>\n      <td>2.909</td>\n      <td>10.68</td>\n      <td>10.70</td>\n      <td>15.76</td>\n      <td>10.98</td>\n      <td>10.58</td>\n      <td>11.00</td>\n      <td>4958</td>\n      <td>53324</td>\n      <td>1000.0</td>\n    </tr>\n    <tr>\n      <th>3</th>\n      <td>2014-02-26</td>\n      <td>11.22</td>\n      <td>0.54</td>\n      <td>5.056</td>\n      <td>11.20</td>\n      <td>11.24</td>\n      <td>16.56</td>\n      <td>11.42</td>\n      <td>10.42</td>\n      <td>10.68</td>\n      <td>11699</td>\n      <td>130270</td>\n      <td>1000.0</td>\n    </tr>\n    <tr>\n      <th>4</th>\n      <td>2014-02-27</td>\n      <td>11.88</td>\n      <td>0.66</td>\n      <td>5.882</td>\n      <td>11.86</td>\n      <td>11.88</td>\n      <td>17.79</td>\n      <td>12.50</td>\n      <td>11.38</td>\n      <td>11.22</td>\n      <td>20283</td>\n      <td>240366</td>\n      <td>1000.0</td>\n    </tr>\n  </tbody>\n</table>\n</div>",
                        "text/plain": "        Date  Nominal Price  Net Change  Change (%)    Bid    Ask  P/E(x)  \\\n0 2014-02-21          10.94        0.14       1.296  10.90  10.96   16.15   \n1 2014-02-24          11.00        0.06       0.548  10.96  10.98   16.24   \n2 2014-02-25          10.68        0.32       2.909  10.68  10.70   15.76   \n3 2014-02-26          11.22        0.54       5.056  11.20  11.24   16.56   \n4 2014-02-27          11.88        0.66       5.882  11.86  11.88   17.79   \n\n    High    Low  Previous Close  Share Volume (000)  Turnover (000)  Lot Size  \n0  11.06  10.70           10.80                5016           54589    1000.0  \n1  11.06  10.90           10.94                3950           43407    1000.0  \n2  10.98  10.58           11.00                4958           53324    1000.0  \n3  11.42  10.42           10.68               11699          130270    1000.0  \n4  12.50  11.38           11.22               20283          240366    1000.0  "
                    },
                    "execution_count": 1,
                    "metadata": {},
                    "output_type": "execute_result"
                }
            ],
            "source": "# The code was removed by Watson Studio for sharing."
        },
        {
            "cell_type": "code",
            "execution_count": null,
            "metadata": {},
            "outputs": [],
            "source": ""
        }
    ],
    "metadata": {
        "kernelspec": {
            "display_name": "Python 3.6",
            "language": "python",
            "name": "python3"
        },
        "language_info": {
            "codemirror_mode": {
                "name": "ipython",
                "version": 3
            },
            "file_extension": ".py",
            "mimetype": "text/x-python",
            "name": "python",
            "nbconvert_exporter": "python",
            "pygments_lexer": "ipython3",
            "version": "3.6.9"
        }
    },
    "nbformat": 4,
    "nbformat_minor": 1
}